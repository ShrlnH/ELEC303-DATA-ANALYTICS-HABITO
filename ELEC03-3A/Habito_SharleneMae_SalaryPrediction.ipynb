{
 "cells": [
  {
   "cell_type": "markdown",
   "id": "a2f88c2d-48ea-481f-8a79-1276872de229",
   "metadata": {},
   "source": [
    "<h1>Linear Regression</h1>\n",
    "\n",
    "<h2>Sharlene Mae Habito</h2>"
   ]
  },
  {
   "cell_type": "markdown",
   "id": "51aa23a6-9434-4787-a453-50955cfe64a9",
   "metadata": {},
   "source": [
    "## 🛠️ Part 1: Setup and Data Loading"
   ]
  },
  {
   "cell_type": "code",
   "execution_count": 15,
   "id": "8a6359b6-78ce-48bf-ba78-00b0afa4ab60",
   "metadata": {},
   "outputs": [
    {
     "data": {
      "text/html": [
       "<div>\n",
       "<style scoped>\n",
       "    .dataframe tbody tr th:only-of-type {\n",
       "        vertical-align: middle;\n",
       "    }\n",
       "\n",
       "    .dataframe tbody tr th {\n",
       "        vertical-align: top;\n",
       "    }\n",
       "\n",
       "    .dataframe thead th {\n",
       "        text-align: right;\n",
       "    }\n",
       "</style>\n",
       "<table border=\"1\" class=\"dataframe\">\n",
       "  <thead>\n",
       "    <tr style=\"text-align: right;\">\n",
       "      <th></th>\n",
       "      <th>work_year</th>\n",
       "      <th>experience_level</th>\n",
       "      <th>employment_type</th>\n",
       "      <th>job_title</th>\n",
       "      <th>salary</th>\n",
       "      <th>salary_currency</th>\n",
       "      <th>salary_in_usd</th>\n",
       "      <th>company_location</th>\n",
       "      <th>company_size</th>\n",
       "    </tr>\n",
       "  </thead>\n",
       "  <tbody>\n",
       "    <tr>\n",
       "      <th>0</th>\n",
       "      <td>2023</td>\n",
       "      <td>EN</td>\n",
       "      <td>FT</td>\n",
       "      <td>Applied Scientist</td>\n",
       "      <td>213660</td>\n",
       "      <td>USD</td>\n",
       "      <td>213660</td>\n",
       "      <td>US</td>\n",
       "      <td>L</td>\n",
       "    </tr>\n",
       "    <tr>\n",
       "      <th>1</th>\n",
       "      <td>2023</td>\n",
       "      <td>EN</td>\n",
       "      <td>FT</td>\n",
       "      <td>Applied Scientist</td>\n",
       "      <td>130760</td>\n",
       "      <td>USD</td>\n",
       "      <td>130760</td>\n",
       "      <td>US</td>\n",
       "      <td>L</td>\n",
       "    </tr>\n",
       "    <tr>\n",
       "      <th>2</th>\n",
       "      <td>2023</td>\n",
       "      <td>EN</td>\n",
       "      <td>FT</td>\n",
       "      <td>Data Quality Analyst</td>\n",
       "      <td>100000</td>\n",
       "      <td>USD</td>\n",
       "      <td>100000</td>\n",
       "      <td>NG</td>\n",
       "      <td>L</td>\n",
       "    </tr>\n",
       "    <tr>\n",
       "      <th>3</th>\n",
       "      <td>2023</td>\n",
       "      <td>EN</td>\n",
       "      <td>FT</td>\n",
       "      <td>Compliance Data Analyst</td>\n",
       "      <td>30000</td>\n",
       "      <td>USD</td>\n",
       "      <td>30000</td>\n",
       "      <td>NG</td>\n",
       "      <td>L</td>\n",
       "    </tr>\n",
       "    <tr>\n",
       "      <th>4</th>\n",
       "      <td>2023</td>\n",
       "      <td>EN</td>\n",
       "      <td>FT</td>\n",
       "      <td>Applied Scientist</td>\n",
       "      <td>204620</td>\n",
       "      <td>USD</td>\n",
       "      <td>204620</td>\n",
       "      <td>US</td>\n",
       "      <td>L</td>\n",
       "    </tr>\n",
       "  </tbody>\n",
       "</table>\n",
       "</div>"
      ],
      "text/plain": [
       "   work_year experience_level employment_type                job_title  \\\n",
       "0       2023               EN              FT        Applied Scientist   \n",
       "1       2023               EN              FT        Applied Scientist   \n",
       "2       2023               EN              FT     Data Quality Analyst   \n",
       "3       2023               EN              FT  Compliance Data Analyst   \n",
       "4       2023               EN              FT        Applied Scientist   \n",
       "\n",
       "   salary salary_currency  salary_in_usd company_location company_size  \n",
       "0  213660             USD         213660               US            L  \n",
       "1  130760             USD         130760               US            L  \n",
       "2  100000             USD         100000               NG            L  \n",
       "3   30000             USD          30000               NG            L  \n",
       "4  204620             USD         204620               US            L  "
      ]
     },
     "execution_count": 15,
     "metadata": {},
     "output_type": "execute_result"
    }
   ],
   "source": [
    "# Import necessary libraries\n",
    "import pandas as pd\n",
    "import numpy as np\n",
    "import matplotlib.pyplot as plt\n",
    "import seaborn as sns\n",
    "from sklearn.model_selection import train_test_split\n",
    "from sklearn.linear_model import LinearRegression\n",
    "from sklearn.metrics import r2_score, mean_squared_error\n",
    "from sklearn.preprocessing import LabelEncoder\n",
    "\n",
    "# Load the dataset\n",
    "df = pd.read_csv('Data Science Salary 2021 to 2023.csv')\n",
    "\n",
    "# Display first few rows\n",
    "df.head()"
   ]
  },
  {
   "cell_type": "code",
   "execution_count": 16,
   "id": "d39be886-3a89-4747-b8f3-cfd0b5ef27da",
   "metadata": {},
   "outputs": [
    {
     "name": "stdout",
     "output_type": "stream",
     "text": [
      "<class 'pandas.core.frame.DataFrame'>\n",
      "RangeIndex: 3761 entries, 0 to 3760\n",
      "Data columns (total 9 columns):\n",
      " #   Column            Non-Null Count  Dtype \n",
      "---  ------            --------------  ----- \n",
      " 0   work_year         3761 non-null   int64 \n",
      " 1   experience_level  3761 non-null   object\n",
      " 2   employment_type   3761 non-null   object\n",
      " 3   job_title         3761 non-null   object\n",
      " 4   salary            3761 non-null   int64 \n",
      " 5   salary_currency   3761 non-null   object\n",
      " 6   salary_in_usd     3761 non-null   int64 \n",
      " 7   company_location  3761 non-null   object\n",
      " 8   company_size      3761 non-null   object\n",
      "dtypes: int64(3), object(6)\n",
      "memory usage: 264.6+ KB\n"
     ]
    }
   ],
   "source": [
    "# Check basic info\n",
    "df.info()"
   ]
  },
  {
   "cell_type": "markdown",
   "id": "7cfefa67-d35e-4aa0-b470-0fc4dc435650",
   "metadata": {},
   "source": [
    "## 🔍 Part 2: Exploratory Data Analysis (EDA)\n",
    "\n",
    "Answer the following in markdown cells below (or as code comments):\n",
    "\n",
    "1. How many unique job titles are there?\n",
    "2. What is the average salary (`salary_in_usd`) per `work_year`?\n",
    "3. Create a bar plot showing average salary by `experience_level`.\n",
    "\n",
    "> 💡 Tip: Use `groupby()` and `mean()`."
   ]
  },
  {
   "cell_type": "markdown",
   "id": "08ce30b1-8870-43a5-8121-4e60f35aa2f3",
   "metadata": {},
   "source": [
    "1.How many unique job titles are there?"
   ]
  },
  {
   "cell_type": "code",
   "execution_count": 18,
   "id": "b166ad43-10e2-400e-89d7-ed0dcc55ea45",
   "metadata": {},
   "outputs": [
    {
     "data": {
      "text/plain": [
       "93"
      ]
     },
     "execution_count": 18,
     "metadata": {},
     "output_type": "execute_result"
    }
   ],
   "source": [
    "df['job_title'].nunique()"
   ]
  },
  {
   "cell_type": "markdown",
   "id": "95cfb378-d227-44a9-b4f5-f62ca891761d",
   "metadata": {},
   "source": [
    "There are 93 job titles in the dataset."
   ]
  },
  {
   "cell_type": "markdown",
   "id": "412cf04b-1ea8-4fc0-92fb-548b52101249",
   "metadata": {},
   "source": [
    "2.What is the average salary (salary_in_usd) per work_year?"
   ]
  },
  {
   "cell_type": "code",
   "execution_count": 20,
   "id": "2e0222c2-4a20-4566-bd39-75cecbc0f201",
   "metadata": {},
   "outputs": [
    {
     "data": {
      "text/html": [
       "<div>\n",
       "<style scoped>\n",
       "    .dataframe tbody tr th:only-of-type {\n",
       "        vertical-align: middle;\n",
       "    }\n",
       "\n",
       "    .dataframe tbody tr th {\n",
       "        vertical-align: top;\n",
       "    }\n",
       "\n",
       "    .dataframe thead th {\n",
       "        text-align: right;\n",
       "    }\n",
       "</style>\n",
       "<table border=\"1\" class=\"dataframe\">\n",
       "  <thead>\n",
       "    <tr style=\"text-align: right;\">\n",
       "      <th></th>\n",
       "      <th>work_year</th>\n",
       "      <th>salary_in_usd</th>\n",
       "    </tr>\n",
       "  </thead>\n",
       "  <tbody>\n",
       "    <tr>\n",
       "      <th>0</th>\n",
       "      <td>2020</td>\n",
       "      <td>92302.631579</td>\n",
       "    </tr>\n",
       "    <tr>\n",
       "      <th>1</th>\n",
       "      <td>2021</td>\n",
       "      <td>94087.208696</td>\n",
       "    </tr>\n",
       "    <tr>\n",
       "      <th>2</th>\n",
       "      <td>2022</td>\n",
       "      <td>133379.510804</td>\n",
       "    </tr>\n",
       "    <tr>\n",
       "      <th>3</th>\n",
       "      <td>2023</td>\n",
       "      <td>148954.558413</td>\n",
       "    </tr>\n",
       "  </tbody>\n",
       "</table>\n",
       "</div>"
      ],
      "text/plain": [
       "   work_year  salary_in_usd\n",
       "0       2020   92302.631579\n",
       "1       2021   94087.208696\n",
       "2       2022  133379.510804\n",
       "3       2023  148954.558413"
      ]
     },
     "execution_count": 20,
     "metadata": {},
     "output_type": "execute_result"
    }
   ],
   "source": [
    "df.groupby('work_year')['salary_in_usd'].mean().reset_index()"
   ]
  },
  {
   "cell_type": "markdown",
   "id": "412a3b8b-7967-4f71-bbbd-ed16e85a1533",
   "metadata": {},
   "source": [
    "3.Create a bar plot showing average salary by experience_level."
   ]
  },
  {
   "cell_type": "code",
   "execution_count": 28,
   "id": "c0a0fd1f-18d8-4107-8ecd-a4745a9a1a2a",
   "metadata": {},
   "outputs": [
    {
     "data": {
      "image/png": "[encoded data removed]",
      "text/plain": [
       "<Figure size 1000x500 with 1 Axes>"
      ]
     },
     "metadata": {},
     "output_type": "display_data"
    }
   ],
   "source": [
    "avg_salary = df.groupby(\"experience_level\")[\"salary_in_usd\"].mean().sort_values()\n",
    "\n",
    "plt.figure(figsize=(10, 5))\n",
    "colors = plt.cm.Pastel1(range(len(avg_salary)))  \n",
    "avg_salary.plot(kind=\"bar\", color=colors, edgecolor=\"black\")\n",
    "\n",
    "plt.title(\"Average Salary by Experience Level\")\n",
    "plt.xlabel(\"Experience Level\")\n",
    "plt.ylabel(\"Average Salary (USD)\")\n",
    "plt.xticks(rotation=0)\n",
    "plt.tight_layout()\n",
    "plt.show()"
   ]
  },
  {
   "cell_type": "markdown",
   "id": "f4db33cc-7d0e-4af6-ab75-a637d1076054",
   "metadata": {},
   "source": [
    "## 🧹 Part 3: Data Preprocessing for Linear Regression\n",
    "\n",
    "We will predict `salary_in_usd` using **only numerical or encoded categorical features**.\n",
    "\n",
    "### Steps:\n",
    "1. Select features: `work_year`, `experience_level`, and optionally `job_title` (you decide!)\n",
    "2. Encode categorical variables (`experience_level`) using `LabelEncoder` or `pd.get_dummies()`\n",
    "3. Define `X` (features) and `y` (target = `salary_in_usd`)\n",
    "\n",
    "> ⚠️ **Important**: Do NOT include `salary`, `salary_currency`, or `salary_in_usd` in your features!"
   ]
  },
  {
   "cell_type": "code",
   "execution_count": 29,
   "id": "bb49c4cb-ac4f-4050-a81e-d53ec871f6dd",
   "metadata": {},
   "outputs": [
    {
     "data": {
      "text/html": [
       "<div>\n",
       "<style scoped>\n",
       "    .dataframe tbody tr th:only-of-type {\n",
       "        vertical-align: middle;\n",
       "    }\n",
       "\n",
       "    .dataframe tbody tr th {\n",
       "        vertical-align: top;\n",
       "    }\n",
       "\n",
       "    .dataframe thead th {\n",
       "        text-align: right;\n",
       "    }\n",
       "</style>\n",
       "<table border=\"1\" class=\"dataframe\">\n",
       "  <thead>\n",
       "    <tr style=\"text-align: right;\">\n",
       "      <th></th>\n",
       "      <th>work_year</th>\n",
       "      <th>experience_level_encoded</th>\n",
       "    </tr>\n",
       "  </thead>\n",
       "  <tbody>\n",
       "    <tr>\n",
       "      <th>0</th>\n",
       "      <td>2023</td>\n",
       "      <td>0</td>\n",
       "    </tr>\n",
       "    <tr>\n",
       "      <th>1</th>\n",
       "      <td>2023</td>\n",
       "      <td>0</td>\n",
       "    </tr>\n",
       "    <tr>\n",
       "      <th>2</th>\n",
       "      <td>2023</td>\n",
       "      <td>0</td>\n",
       "    </tr>\n",
       "    <tr>\n",
       "      <th>3</th>\n",
       "      <td>2023</td>\n",
       "      <td>0</td>\n",
       "    </tr>\n",
       "    <tr>\n",
       "      <th>4</th>\n",
       "      <td>2023</td>\n",
       "      <td>0</td>\n",
       "    </tr>\n",
       "  </tbody>\n",
       "</table>\n",
       "</div>"
      ],
      "text/plain": [
       "   work_year  experience_level_encoded\n",
       "0       2023                         0\n",
       "1       2023                         0\n",
       "2       2023                         0\n",
       "3       2023                         0\n",
       "4       2023                         0"
      ]
     },
     "execution_count": 29,
     "metadata": {},
     "output_type": "execute_result"
    }
   ],
   "source": [
    "# Example: Encode experience_level\n",
    "le = LabelEncoder()\n",
    "df['experience_level_encoded'] = le.fit_transform(df['experience_level'])\n",
    "# Choose your features\n",
    "features = ['work_year', 'experience_level_encoded']\n",
    "X = df[features]\n",
    "y = df['salary_in_usd']\n",
    "# Optional: Add more features like job_title (try it!)\n",
    "# But remember: too many categories can hurt performance\n",
    "X.head()"
   ]
  },
  {
   "cell_type": "markdown",
   "id": "0bbb3f3f-a6b9-4a3e-8d47-92fcb55a7c8a",
   "metadata": {},
   "source": [
    "## 📈 Part 4: Train a Linear Regression Model"
   ]
  },
  {
   "cell_type": "code",
   "execution_count": 31,
   "id": "895323ec-9c29-48dd-bf97-4a80428ba796",
   "metadata": {},
   "outputs": [
    {
     "name": "stdout",
     "output_type": "stream",
     "text": [
      "R² Score: 0.15\n",
      "RMSE: 59164.82\n"
     ]
    }
   ],
   "source": [
    "# Split data into train and test sets (80/20)\n",
    "X_train, X_test, y_train, y_test = train_test_split(X, y, test_size=0.2, random_state=42)\n",
    "\n",
    "# Create and train the model\n",
    "model = LinearRegression()\n",
    "model.fit(X_train, y_train)\n",
    "\n",
    "# Make predictions\n",
    "y_pred = model.predict(X_test)\n",
    "\n",
    "# Evaluate\n",
    "print(f\"R² Score: {r2_score(y_test, y_pred):.2f}\")\n",
    "print(f\"RMSE: {np.sqrt(mean_squared_error(y_test, y_pred)):.2f}\")"
   ]
  },
  {
   "cell_type": "markdown",
   "id": "47ed3d68-1ea5-4557-850f-157f8029761a",
   "metadata": {},
   "source": [
    "## 🔮 Part 5: Predict 2024 Salaries\n",
    "\n",
    "Now, create a small DataFrame for **2024** with different experience levels and predict their salaries.\n",
    "\n",
    "Use the same encoding as before!"
   ]
  },
  {
   "cell_type": "code",
   "execution_count": 33,
   "id": "2192f55c-fa14-4150-92c4-ff78ff4e8b6e",
   "metadata": {},
   "outputs": [
    {
     "data": {
      "text/html": [
       "<div>\n",
       "<style scoped>\n",
       "    .dataframe tbody tr th:only-of-type {\n",
       "        vertical-align: middle;\n",
       "    }\n",
       "\n",
       "    .dataframe tbody tr th {\n",
       "        vertical-align: top;\n",
       "    }\n",
       "\n",
       "    .dataframe thead th {\n",
       "        text-align: right;\n",
       "    }\n",
       "</style>\n",
       "<table border=\"1\" class=\"dataframe\">\n",
       "  <thead>\n",
       "    <tr style=\"text-align: right;\">\n",
       "      <th></th>\n",
       "      <th>Experience Level</th>\n",
       "      <th>Predicted 2024 Salary (USD)</th>\n",
       "    </tr>\n",
       "  </thead>\n",
       "  <tbody>\n",
       "    <tr>\n",
       "      <th>0</th>\n",
       "      <td>Entry</td>\n",
       "      <td>111694.914909</td>\n",
       "    </tr>\n",
       "    <tr>\n",
       "      <th>1</th>\n",
       "      <td>Mid</td>\n",
       "      <td>131967.434578</td>\n",
       "    </tr>\n",
       "    <tr>\n",
       "      <th>2</th>\n",
       "      <td>Senior</td>\n",
       "      <td>152239.954247</td>\n",
       "    </tr>\n",
       "    <tr>\n",
       "      <th>3</th>\n",
       "      <td>Executive</td>\n",
       "      <td>172512.473916</td>\n",
       "    </tr>\n",
       "  </tbody>\n",
       "</table>\n",
       "</div>"
      ],
      "text/plain": [
       "  Experience Level  Predicted 2024 Salary (USD)\n",
       "0            Entry                111694.914909\n",
       "1              Mid                131967.434578\n",
       "2           Senior                152239.954247\n",
       "3        Executive                172512.473916"
      ]
     },
     "execution_count": 33,
     "metadata": {},
     "output_type": "execute_result"
    }
   ],
   "source": [
    "# Map experience levels to encoded values (check your LabelEncoder!)\n",
    "# Example: EN=0, MI=1, SE=2, EX=3 (confirm with `le.classes_`)\n",
    "\n",
    "future_data = pd.DataFrame({\n",
    "    'work_year': [2024, 2024, 2024, 2024],\n",
    "    'experience_level_encoded': [0, 1, 2, 3]  # EN, MI, SE, EX\n",
    "})\n",
    "\n",
    "# Predict\n",
    "predicted_salaries = model.predict(future_data)\n",
    "\n",
    "# Display results\n",
    "results = pd.DataFrame({\n",
    "    'Experience Level': ['Entry', 'Mid', 'Senior', 'Executive'],\n",
    "    'Predicted 2024 Salary (USD)': predicted_salaries\n",
    "})\n",
    "results"
   ]
  },
  {
   "cell_type": "markdown",
   "id": "5132eafd-096f-4849-bdf6-bd66e4ab9999",
   "metadata": {},
   "source": [
    "## 📝 Part 6: Reflection "
   ]
  },
  {
   "cell_type": "markdown",
   "id": "e213e7c7-27a6-414a-a58b-e5b93b4eceed",
   "metadata": {},
   "source": [
    "<h2>1. Does your model make reasonable predictions? Why or why not?</h2>"
   ]
  },
  {
   "cell_type": "markdown",
   "id": "cf0d39c6-ba08-4f06-91bb-6a9d3a7367f1",
   "metadata": {},
   "source": [
    "<h3>It makes somewhat reasonable, but they are not very accurate because it only looks at a few details about the job.</h3>"
   ]
  },
  {
   "cell_type": "markdown",
   "id": "0c46143c-ffa3-41f8-bf26-1a827f973118",
   "metadata": {},
   "source": [
    "<h2>2. What are the limitations of using only `work_year` and `experience_level`?</h2>"
   ]
  },
  {
   "cell_type": "markdown",
   "id": "924b0f4d-a024-41d5-81f0-48735370a92f",
   "metadata": {},
   "source": [
    "<h3>These two factors don’t show everything that affects salary, like job title, location, or company size. So the model misses a lot of important information.</h3>"
   ]
  },
  {
   "cell_type": "markdown",
   "id": "e19d85d5-2979-4889-9bf9-fcce9237f552",
   "metadata": {},
   "source": [
    "<h2>3. How could you improve this model? (Think: more features, better encoding, etc.)</h2>"
   ]
  },
  {
   "cell_type": "markdown",
   "id": "8c5e7121-1df8-4685-a83d-fa1cc609dbaa",
   "metadata": {},
   "source": [
    "<h3>By adding details like job title, company size, and location ,because these factors can have a big impact on salary and help the model make more accurate predictions.</h3>"
   ]
  },
  {
   "cell_type": "markdown",
   "id": "146e2d22-470d-41eb-9c24-3864bf6dcb5a",
   "metadata": {},
   "source": [
    "<h2>4. Why is **R² not enough** to trust your predictions?</h2>"
   ]
  },
  {
   "cell_type": "markdown",
   "id": "1e398df5-b263-434e-bc14-ca192da1fccd",
   "metadata": {},
   "source": [
    "<h3>R² doesn’t always show that the model will work well on new data. Sometimes a high R² just means the model is memorizing the training data instead of learning patterns that generalize (this is called overfitting).</h3>"
   ]
  }
 ],
 "metadata": {
  "kernelspec": {
   "display_name": "Python 3 (ipykernel)",
   "language": "python",
   "name": "python3"
  },
  "language_info": {
   "codemirror_mode": {
    "name": "ipython",
    "version": 3
   },
   "file_extension": ".py",
   "mimetype": "text/x-python",
   "name": "python",
   "nbconvert_exporter": "python",
   "pygments_lexer": "ipython3",
   "version": "3.11.9"
  }
 },
 "nbformat": 4,
 "nbformat_minor": 5
}
